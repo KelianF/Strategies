{
 "cells": [
  {
   "cell_type": "markdown",
   "metadata": {},
   "source": [
    "# Disruptions Stocks"
   ]
  },
  {
   "cell_type": "code",
   "execution_count": 6,
   "metadata": {},
   "outputs": [],
   "source": [
    "import pandas as pd\n",
    "import numpy as np\n",
    "import matplotlib.pyplot as plt\n",
    "\n",
    "from xbbg import blp"
   ]
  },
  {
   "cell_type": "code",
   "execution_count": 9,
   "metadata": {},
   "outputs": [],
   "source": [
    "def GetRet(Liste, Start = \"20150101\", End = pd.to_datetime(\"today\").strftime(\"%Y%m%d\"), Returns = True):\n",
    "    Res = blp.bdh(tickers= Liste,start_date = Start , end_date = End)\n",
    "    Res.columns = [x[0] for x in Res.columns]\n",
    "    Ret = (np.log(Res) - np.log(Res.shift(1))).iloc[1:,:]\n",
    "    if Returns == True:\n",
    "        Ret = Ret.T.mean()\n",
    "    return Ret\n",
    "\n",
    "def GetBench(Index, Start = \"20150101\", End = pd.to_datetime(\"today\").strftime(\"%Y%m%d\")):\n",
    "    Res = blp.bdh(tickers= Index + \" Index\",start_date = Start , end_date = End)\n",
    "    Ret = (np.log(Res) - np.log(Res.shift(1))).iloc[1:,:]\n",
    "    Ret.columns = [Index]\n",
    "    return Ret\n",
    "\n",
    "def Plot(Ret):\n",
    "    print(\"Sharpe\", np.sqrt(252) * Ret.mean()/Ret.std())\n",
    "    Ret = Ret + 1\n",
    "    if type(Ret) == type(pd.Series(0)):\n",
    "        Ret[0] = 100\n",
    "    else:\n",
    "        Ret.iloc[0,0] = 100\n",
    "    plt.plot(Ret.cumprod())\n",
    "    plt.axvline(x=pd.to_datetime(\"2020-05-27\"), c=\"k\")\n",
    "    plt.show()\n",
    "    return \"Plot!\"\n"
   ]
  },
  {
   "cell_type": "code",
   "execution_count": 10,
   "metadata": {},
   "outputs": [],
   "source": [
    "Liste = [\"TSLA US Equity\",\"SQ US Equity\",\"NVTA US Equity\",\"CRSP US Equity\",\"TWOU US Equity\",\"ILMN US Equity\",\"PRLB US Equity\",\"Z US Equity\",\"ROKU US Equity\",\"NTLA US Equity\",\"SSYS US Equity\",\"EDIT US Equity\",\"TREE US Equity\",\"CGEN US Equity\",\"SPLK US Equity\",\"XLNX US Equity\",\"NSTG US Equity\",\"TER US Equity\",\"MTLS US Equity\",\"ADSK US Equity\",\"PINS US Equity\",\"PD US Equity\",\"CERS US Equity\",\"PSTG US Equity\",\"VCYT US Equity\",\"SYRS US Equity\",\"IRDM US Equity\",\"MCRB US Equity\",\"ZS US Equity\",\"XONE US Equity\",\"ONVO US Equity\",\"LC US Equity\",\"TWST US Equity\",\"SFIX US Equity\", \"PHR US Equity\", \"FVRR US Equity\", \"MDLA US Equity\"]\n"
   ]
  },
  {
   "cell_type": "code",
   "execution_count": 11,
   "metadata": {},
   "outputs": [],
   "source": [
    "Ret = GetRet(Liste, Start = \"20200101\", End = pd.to_datetime(\"today\").strftime(\"%Y%m%d\"), Returns = True)"
   ]
  },
  {
   "cell_type": "code",
   "execution_count": 12,
   "metadata": {},
   "outputs": [
    {
     "name": "stdout",
     "output_type": "stream",
     "text": [
      "Sharpe 0.626691274279432\n"
     ]
    },
    {
     "data": {
      "image/png": "[encoded data removed]",
      "text/plain": [
       "<Figure size 432x288 with 1 Axes>"
      ]
     },
     "metadata": {
      "needs_background": "light"
     },
     "output_type": "display_data"
    },
    {
     "data": {
      "text/plain": [
       "'Plot!'"
      ]
     },
     "execution_count": 12,
     "metadata": {},
     "output_type": "execute_result"
    }
   ],
   "source": [
    "Plot(Ret)"
   ]
  },
  {
   "cell_type": "code",
   "execution_count": null,
   "metadata": {},
   "outputs": [],
   "source": []
  },
  {
   "cell_type": "code",
   "execution_count": null,
   "metadata": {},
   "outputs": [],
   "source": []
  }
 ],
 "metadata": {
  "kernelspec": {
   "display_name": "Python 3",
   "language": "python",
   "name": "python3"
  },
  "language_info": {
   "codemirror_mode": {
    "name": "ipython",
    "version": 3
   },
   "file_extension": ".py",
   "mimetype": "text/x-python",
   "name": "python",
   "nbconvert_exporter": "python",
   "pygments_lexer": "ipython3",
   "version": "3.7.6"
  }
 },
 "nbformat": 4,
 "nbformat_minor": 4
}
