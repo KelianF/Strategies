{
 "cells": [
  {
   "cell_type": "code",
   "execution_count": 6,
   "metadata": {},
   "outputs": [],
   "source": [
    "import pandas as pd\n",
    "import numpy as np\n",
    "import matplotlib.pyplot as plt\n",
    "\n",
    "from xbbg import blp"
   ]
  },
  {
   "cell_type": "code",
   "execution_count": 7,
   "metadata": {},
   "outputs": [],
   "source": [
    "def GetRet(Liste, Start = \"20150101\", End = pd.to_datetime(\"today\").strftime(\"%Y%m%d\")):\n",
    "    Res = blp.bdh(tickers= [x + \" Equity\" for x in Liste],start_date = Start , end_date = End)\n",
    "    Res.columns = [x[0] for x in Res.columns]\n",
    "    Ret = (np.log(Res) - np.log(Res.shift(1))).iloc[1:,:]\n",
    "    Ret = Ret.T.mean()\n",
    "    return Ret\n",
    "\n",
    "def GetBench(Index, Start = \"20150101\", End = pd.to_datetime(\"today\").strftime(\"%Y%m%d\")):\n",
    "    Res = blp.bdh(tickers= Index + \" Index\",start_date = Start , end_date = End)\n",
    "    Ret = (np.log(Res) - np.log(Res.shift(1))).iloc[1:,:]\n",
    "    Ret.columns = [Index]\n",
    "    return Ret\n",
    "\n",
    "def Plot(Ret):\n",
    "    print(\"Sharpe\", np.sqrt(252) * Ret.mean()/Ret.std())\n",
    "    Ret = Ret + 1\n",
    "    if type(Ret) == type(pd.Series(0)):\n",
    "        Ret[0] = 100\n",
    "    else:\n",
    "        Ret.iloc[0,0] = 100\n",
    "    plt.plot(Ret.cumprod())\n",
    "    plt.xticks(rotation=45)\n",
    "    plt.show()\n",
    "    return 1"
   ]
  },
  {
   "cell_type": "code",
   "execution_count": 8,
   "metadata": {},
   "outputs": [],
   "source": [
    "#List\n",
    "Liste = [\"ATGE US\", \"PRDO US\", \"CHGG US\", \"TWOU US\", \"LRN US\", \"GHC US\"]"
   ]
  },
  {
   "cell_type": "code",
   "execution_count": 9,
   "metadata": {},
   "outputs": [],
   "source": [
    "df = GetRet(Liste, \"20200101\")\n"
   ]
  },
  {
   "cell_type": "code",
   "execution_count": 10,
   "metadata": {},
   "outputs": [
    {
     "name": "stdout",
     "output_type": "stream",
     "text": [
      "Sharpe -3.510934621517221\n"
     ]
    },
    {
     "data": {
      "image/png": "[encoded data removed]",
      "text/plain": [
       "<Figure size 432x288 with 1 Axes>"
      ]
     },
     "metadata": {
      "needs_background": "light"
     },
     "output_type": "display_data"
    },
    {
     "data": {
      "text/plain": [
       "1"
      ]
     },
     "execution_count": 10,
     "metadata": {},
     "output_type": "execute_result"
    }
   ],
   "source": [
    "Plot(df)\n"
   ]
  },
  {
   "cell_type": "code",
   "execution_count": null,
   "metadata": {},
   "outputs": [],
   "source": []
  }
 ],
 "metadata": {
  "kernelspec": {
   "display_name": "Python 3",
   "language": "python",
   "name": "python3"
  },
  "language_info": {
   "codemirror_mode": {
    "name": "ipython",
    "version": 3
   },
   "file_extension": ".py",
   "mimetype": "text/x-python",
   "name": "python",
   "nbconvert_exporter": "python",
   "pygments_lexer": "ipython3",
   "version": "3.7.6"
  }
 },
 "nbformat": 4,
 "nbformat_minor": 4
}
