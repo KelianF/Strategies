{
 "cells": [
  {
   "cell_type": "code",
   "execution_count": 1,
   "metadata": {},
   "outputs": [],
   "source": [
    "import pandas as pd\n",
    "import numpy as np\n",
    "import matplotlib.pyplot as plt\n",
    "\n",
    "from xbbg import blp"
   ]
  },
  {
   "cell_type": "code",
   "execution_count": 25,
   "metadata": {},
   "outputs": [],
   "source": [
    "def GetRet(Liste, Start = \"20150101\", End = pd.to_datetime(\"today\").strftime(\"%Y%m%d\")):\n",
    "    Res = blp.bdh(tickers= [x + \" Equity\" for x in Liste],start_date = Start , end_date = End)\n",
    "    Res.columns = [x[0] for x in Res.columns]\n",
    "    Ret = (np.log(Res) - np.log(Res.shift(1))).iloc[1:,:]\n",
    "    Ret = Ret.T.mean()\n",
    "    return Ret\n",
    "\n",
    "def GetBench(Index, Start = \"20150101\", End = pd.to_datetime(\"today\").strftime(\"%Y%m%d\")):\n",
    "    Res = blp.bdh(tickers= Index + \" Index\",start_date = Start , end_date = End)\n",
    "    Ret = (np.log(Res) - np.log(Res.shift(1))).iloc[1:,:]\n",
    "    Ret.columns = [Index]\n",
    "    return Ret\n",
    "\n",
    "def Plot(Ret):\n",
    "    Ret = Ret + 1\n",
    "    if type(Ret) == type(pd.Series(0)):\n",
    "        Ret[0] = 100\n",
    "    else:\n",
    "        Ret.iloc[0,0] = 100\n",
    "    plt.plot(Ret.cumprod())"
   ]
  },
  {
   "cell_type": "code",
   "execution_count": 26,
   "metadata": {},
   "outputs": [],
   "source": [
    "Liste = [\"VXRT US\", \"NVAX US\", \"MRNA US\", \"INO US\", \"REGN US\", \"GILD US\", \"SAN FP\", \"JNJ US\"]"
   ]
  },
  {
   "cell_type": "code",
   "execution_count": 30,
   "metadata": {},
   "outputs": [],
   "source": [
    "ListeNonBT = ['CORV CN','MLNTQ US','RLMD US','COLL US','HZNP US','AGN US','MYOK US','HSKA US','USNA US','ZTS US','CORT US','RETA US','TRUL CN','CURA CN','SAN FP','JNJ US','PCRX US','NKTR US','PBH US','ELAN US','ATRS US','ODT US','TCDA US','AXSM US','ITCI US','BHC CN','AMPH' ]"
   ]
  },
  {
   "cell_type": "code",
   "execution_count": 33,
   "metadata": {},
   "outputs": [],
   "source": [
    "ListeBT = ['VXRT US','NVAX US','CBLI US','MRNA US','VSTM US','IPIX US','BCRX US','SGMO US','INO US','SNSS US','REGN US','RDUS US','BTAI US','RYTM US','IRWD US','LXRX US','CMRX US','RARX US','NTLA US','GILD US','PRNB US','MLM IM','ANIK US','ICPT US','ACHV US','PTCT US','KURA US','MRTX US','HGEN US','ZIOP US','AKCA US','BBI US','LGND US','MDGL US','XNCR US','SRPT US','RIGL US','OXB LN','BIIB US','ENZN US','CCXI US','CRIS US','KDMN US','CYTK US','FLXN US','VRTX US','NBIX US','XLRN US','AIMT US','RGLS US','GERN US','VNDA US','MTEM US','ALEC US','BLUE US','URGN US','ALNY US','PRTA US','MACK US','AMGN US','HALO US','AGIO US','EBS US','BINV SS','SLN LN','IMMU US','FOLD US','TPTX US','STML US','GBT US','EGRX US','XOMA US','CDMO US','BAVA DC','AKBA US','ATNX US','TH CN','XBIT US','HRTX US','ZEAL DC','MERTA SS','EPZM US','ACTI SS','MSB AU','CHRS US','CLDX US','NLNK US','TNG FP','ARNA US','MOR GR','PSTI US','KURN SW','AVEO US','IMGN US','ESPR US','MNKD US','DVAX US','INFI US','TGTX US','REXN US','INSM US','VSC GR','PBYI US','ONC CN','PTLA US','MGNK GR','FPRX US','CLVS US','CVM US']\n"
   ]
  },
  {
   "cell_type": "code",
   "execution_count": 36,
   "metadata": {},
   "outputs": [],
   "source": [
    "df = GetRet(Liste, \"20200101\")"
   ]
  },
  {
   "cell_type": "code",
   "execution_count": 37,
   "metadata": {},
   "outputs": [
    {
     "data": {
      "image/png": "[encoded data removed]",
      "text/plain": [
       "<Figure size 432x288 with 1 Axes>"
      ]
     },
     "metadata": {
      "needs_background": "light"
     },
     "output_type": "display_data"
    }
   ],
   "source": [
    "Plot(df)\n",
    "plt.xticks(rotation=45)\n",
    "plt.show()"
   ]
  },
  {
   "cell_type": "code",
   "execution_count": 39,
   "metadata": {},
   "outputs": [
    {
     "data": {
      "text/plain": [
       "2020-01-03   -0.024012\n",
       "2020-01-06    0.010467\n",
       "2020-01-07    0.003054\n",
       "2020-01-08   -0.008260\n",
       "2020-01-09   -0.000692\n",
       "2020-01-10   -0.002253\n",
       "2020-01-13    0.013684\n",
       "2020-01-14    0.006408\n",
       "2020-01-15    0.031280\n",
       "2020-01-16    0.012999\n",
       "2020-01-17    0.012727\n",
       "2020-01-20   -0.003151\n",
       "2020-01-21   -0.005893\n",
       "2020-01-22   -0.030028\n",
       "2020-01-23    0.008087\n",
       "2020-01-24   -0.002100\n",
       "2020-01-27    0.077274\n",
       "2020-01-28   -0.004116\n",
       "2020-01-29   -0.048350\n",
       "2020-01-30    0.019211\n",
       "2020-01-31    0.068522\n",
       "2020-02-03    0.006904\n",
       "2020-02-04   -0.028208\n",
       "2020-02-05   -0.014249\n",
       "2020-02-06   -0.002490\n",
       "2020-02-07    0.009110\n",
       "2020-02-10    0.035494\n",
       "2020-02-11   -0.021958\n",
       "2020-02-12   -0.017593\n",
       "2020-02-13    0.023262\n",
       "2020-02-14    0.011928\n",
       "2020-02-17    0.000759\n",
       "2020-02-18    0.015052\n",
       "2020-02-19   -0.018508\n",
       "2020-02-20   -0.004849\n",
       "2020-02-21    0.005203\n",
       "2020-02-24    0.043056\n",
       "2020-02-25    0.010353\n",
       "2020-02-26    0.103211\n",
       "2020-02-27    0.060467\n",
       "2020-02-28    0.040509\n",
       "dtype: float64"
      ]
     },
     "execution_count": 39,
     "metadata": {},
     "output_type": "execute_result"
    }
   ],
   "source": [
    "df"
   ]
  },
  {
   "cell_type": "code",
   "execution_count": null,
   "metadata": {},
   "outputs": [],
   "source": []
  }
 ],
 "metadata": {
  "kernelspec": {
   "display_name": "Python 3",
   "language": "python",
   "name": "python3"
  },
  "language_info": {
   "codemirror_mode": {
    "name": "ipython",
    "version": 3
   },
   "file_extension": ".py",
   "mimetype": "text/x-python",
   "name": "python",
   "nbconvert_exporter": "python",
   "pygments_lexer": "ipython3",
   "version": "3.7.6"
  }
 },
 "nbformat": 4,
 "nbformat_minor": 4
}
