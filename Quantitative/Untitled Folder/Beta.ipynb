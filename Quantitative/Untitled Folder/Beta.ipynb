{
 "cells": [
  {
   "cell_type": "markdown",
   "metadata": {},
   "source": [
    "# Beta And Rolling Beta"
   ]
  },
  {
   "cell_type": "markdown",
   "metadata": {},
   "source": [
    "# Imports"
   ]
  },
  {
   "cell_type": "code",
   "execution_count": 1,
   "metadata": {},
   "outputs": [],
   "source": [
    "import pandas as pd\n",
    "import numpy as np\n",
    "import matplotlib.pyplot as plt\n",
    "\n",
    "from xbbg import blp"
   ]
  },
  {
   "cell_type": "markdown",
   "metadata": {},
   "source": [
    "## Helper Functions"
   ]
  },
  {
   "cell_type": "code",
   "execution_count": 2,
   "metadata": {},
   "outputs": [],
   "source": [
    "def GetRet(Liste, Start = \"20150101\", End = pd.to_datetime(\"today\").strftime(\"%Y%m%d\")):\n",
    "    Res = blp.bdh(tickers= [x + \" Equity\" for x in Liste],start_date = Start , end_date = End)\n",
    "    Res.columns = [x[0] for x in Res.columns]\n",
    "    Ret = (np.log(Res) - np.log(Res.shift(1))).iloc[1:,:]\n",
    "    return Ret\n",
    "\n",
    "def GetBench(Benchmark=\"SPX Index\", Start = \"20150101\", End = pd.to_datetime(\"today\").strftime(\"%Y%m%d\")):\n",
    "    Res = blp.bdh(tickers= [Benchmark],start_date = Start , end_date = End)\n",
    "    Res.columns = [x[0] for x in Res.columns]\n",
    "    Ret = (np.log(Res) - np.log(Res.shift(1))).iloc[1:,:]\n",
    "    return Ret"
   ]
  },
  {
   "cell_type": "code",
   "execution_count": 3,
   "metadata": {},
   "outputs": [],
   "source": [
    "Portfolio = [\"AAPL US\",\"ABMD US\",\"ABT US\",\"ADBE US\",\"ALGN US\",\"APD US\",\"ATVI US\",\"BAC US\",\"BG US\",\"CSCO US\",\"DG US\",\"DIS US\",\"EA US\",\"EQIX US\",\"FB US\",\"FCX US\",\"FTCH US\",\"HAS US\",\"HD US\",\"HON US\",\"ISRG US\",\"ITT US\",\"JPM US\",\"LHX US\",\"MA US\",\"MCD US\",\"MDLZ US\",\"MNST US\",\"MSFT US\",\"MU US\",\"NKE US\",\"TTWO US\",\"VRTX US\",\"WY US\",\"XLNX US\"]"
   ]
  },
  {
   "cell_type": "code",
   "execution_count": 4,
   "metadata": {},
   "outputs": [],
   "source": [
    "df = GetRet(Portfolio)"
   ]
  },
  {
   "cell_type": "code",
   "execution_count": 5,
   "metadata": {},
   "outputs": [],
   "source": [
    "SPX = GetBench()"
   ]
  },
  {
   "cell_type": "code",
   "execution_count": 6,
   "metadata": {},
   "outputs": [],
   "source": [
    "dic = {}\n",
    "for col in range(len(df.columns)):\n",
    "    dic[df.columns[col]] = np.cov(pd.concat((SPX[-252*3:], df[-252*3:][df.columns[col]]), axis=1).dropna().T)[1,0] / np.cov(pd.concat((SPX[-252*3:], df[-252*3:][df.columns[col]]), axis=1).dropna().T)[0,0]"
   ]
  },
  {
   "cell_type": "code",
   "execution_count": 7,
   "metadata": {
    "scrolled": true
   },
   "outputs": [
    {
     "data": {
      "text/plain": [
       "FTCH US Equity    1.285728\n",
       "VRTX US Equity    1.006700\n",
       "MA US Equity      1.231581\n",
       "BG US Equity      0.809291\n",
       "AAPL US Equity    1.196021\n",
       "HAS US Equity     1.020375\n",
       "WY US Equity      1.397430\n",
       "MCD US Equity     0.838152\n",
       "ABMD US Equity    0.844313\n",
       "CSCO US Equity    1.088599\n",
       "XLNX US Equity    1.101593\n",
       "ABT US Equity     0.944330\n",
       "DG US Equity      0.620072\n",
       "MDLZ US Equity    0.776882\n",
       "HD US Equity      1.099288\n",
       "HON US Equity     0.999618\n",
       "MNST US Equity    0.881239\n",
       "ADBE US Equity    1.232511\n",
       "DIS US Equity     0.942865\n",
       "ISRG US Equity    1.204777\n",
       "ALGN US Equity    1.448003\n",
       "MSFT US Equity    1.214688\n",
       "EA US Equity      0.819234\n",
       "ITT US Equity     1.243675\n",
       "MU US Equity      1.515358\n",
       "APD US Equity     1.005311\n",
       "EQIX US Equity    0.819846\n",
       "JPM US Equity     1.213353\n",
       "ATVI US Equity    0.911833\n",
       "NKE US Equity     0.989035\n",
       "FB US Equity      1.063212\n",
       "LHX US Equity     0.862068\n",
       "BAC US Equity     1.321691\n",
       "FCX US Equity     1.532341\n",
       "TTWO US Equity    0.907955\n",
       "dtype: float64"
      ]
     },
     "execution_count": 7,
     "metadata": {},
     "output_type": "execute_result"
    }
   ],
   "source": [
    "pd.Series(dic)"
   ]
  },
  {
   "cell_type": "code",
   "execution_count": 37,
   "metadata": {
    "scrolled": false
   },
   "outputs": [
    {
     "name": "stdout",
     "output_type": "stream",
     "text": [
      "FTCH US Equity\n",
      "1M    1.146043\n",
      "3M    1.128331\n",
      "Name: 2020-04-09 00:00:00, dtype: float64\n",
      "VRTX US Equity\n",
      "1M    0.859124\n",
      "3M    0.887565\n",
      "Name: 2020-04-09 00:00:00, dtype: float64\n",
      "MA US Equity\n",
      "1M    1.183497\n",
      "3M    1.184308\n",
      "Name: 2020-04-09 00:00:00, dtype: float64\n",
      "BG US Equity\n",
      "1M    0.969428\n",
      "3M    0.936598\n",
      "Name: 2020-04-09 00:00:00, dtype: float64\n",
      "AAPL US Equity\n",
      "1M    1.042623\n",
      "3M    1.095580\n",
      "Name: 2020-04-09 00:00:00, dtype: float64\n",
      "HAS US Equity\n",
      "1M    1.117187\n",
      "3M    1.092309\n",
      "Name: 2020-04-09 00:00:00, dtype: float64\n",
      "WY US Equity\n",
      "1M    1.889073\n",
      "3M    1.705807\n",
      "Name: 2020-04-09 00:00:00, dtype: float64\n",
      "MCD US Equity\n",
      "1M    1.061921\n",
      "3M    1.014590\n",
      "Name: 2020-04-09 00:00:00, dtype: float64\n",
      "ABMD US Equity\n",
      "1M    0.499178\n",
      "3M    0.519078\n",
      "Name: 2020-04-09 00:00:00, dtype: float64\n",
      "CSCO US Equity\n",
      "1M    0.978102\n",
      "3M    0.980780\n",
      "Name: 2020-04-09 00:00:00, dtype: float64\n",
      "XLNX US Equity\n",
      "1M    0.887356\n",
      "3M    0.895437\n",
      "Name: 2020-04-09 00:00:00, dtype: float64\n",
      "ABT US Equity\n",
      "1M    0.885906\n",
      "3M    0.893649\n",
      "Name: 2020-04-09 00:00:00, dtype: float64\n",
      "DG US Equity\n",
      "1M    0.538010\n",
      "3M    0.546596\n",
      "Name: 2020-04-09 00:00:00, dtype: float64\n",
      "MDLZ US Equity\n",
      "1M    0.926217\n",
      "3M    0.873866\n",
      "Name: 2020-04-09 00:00:00, dtype: float64\n",
      "HD US Equity\n",
      "1M    1.231412\n",
      "3M    1.187685\n",
      "Name: 2020-04-09 00:00:00, dtype: float64\n",
      "HON US Equity\n",
      "1M    1.036533\n",
      "3M    1.011067\n",
      "Name: 2020-04-09 00:00:00, dtype: float64\n",
      "MNST US Equity\n",
      "1M    0.823808\n",
      "3M    0.859776\n",
      "Name: 2020-04-09 00:00:00, dtype: float64\n",
      "ADBE US Equity\n",
      "1M    1.067907\n",
      "3M    1.096253\n",
      "Name: 2020-04-09 00:00:00, dtype: float64\n",
      "DIS US Equity\n",
      "1M    0.990888\n",
      "3M    1.000260\n",
      "Name: 2020-04-09 00:00:00, dtype: float64\n",
      "ISRG US Equity\n",
      "1M    1.134023\n",
      "3M    1.105696\n",
      "Name: 2020-04-09 00:00:00, dtype: float64\n",
      "ALGN US Equity\n",
      "1M    1.410865\n",
      "3M    1.328996\n",
      "Name: 2020-04-09 00:00:00, dtype: float64\n",
      "MSFT US Equity\n",
      "1M    1.116199\n",
      "3M    1.124337\n",
      "Name: 2020-04-09 00:00:00, dtype: float64\n",
      "EA US Equity\n",
      "1M    0.604597\n",
      "3M    0.641416\n",
      "Name: 2020-04-09 00:00:00, dtype: float64\n",
      "ITT US Equity\n",
      "1M    1.074924\n",
      "3M    1.191522\n",
      "Name: 2020-04-09 00:00:00, dtype: float64\n",
      "MU US Equity\n",
      "1M    1.293629\n",
      "3M    1.310802\n",
      "Name: 2020-04-09 00:00:00, dtype: float64\n",
      "APD US Equity\n",
      "1M    1.064563\n",
      "3M    1.068172\n",
      "Name: 2020-04-09 00:00:00, dtype: float64\n",
      "EQIX US Equity\n",
      "1M    0.974841\n",
      "3M    0.966968\n",
      "Name: 2020-04-09 00:00:00, dtype: float64\n",
      "JPM US Equity\n",
      "1M    1.277778\n",
      "3M    1.289631\n",
      "Name: 2020-04-09 00:00:00, dtype: float64\n",
      "ATVI US Equity\n",
      "1M    0.624784\n",
      "3M    0.678338\n",
      "Name: 2020-04-09 00:00:00, dtype: float64\n",
      "NKE US Equity\n",
      "1M    0.983474\n",
      "3M    0.951957\n",
      "Name: 2020-04-09 00:00:00, dtype: float64\n",
      "FB US Equity\n",
      "1M    0.949600\n",
      "3M    0.936479\n",
      "Name: 2020-04-09 00:00:00, dtype: float64\n",
      "LHX US Equity\n",
      "1M    0.995517\n",
      "3M    0.970607\n",
      "Name: 2020-04-09 00:00:00, dtype: float64\n",
      "BAC US Equity\n",
      "1M    1.374562\n",
      "3M    1.380967\n",
      "Name: 2020-04-09 00:00:00, dtype: float64\n",
      "FCX US Equity\n",
      "1M    1.436320\n",
      "3M    1.490677\n",
      "Name: 2020-04-09 00:00:00, dtype: float64\n",
      "TTWO US Equity\n",
      "1M    0.68547\n",
      "3M    0.66994\n",
      "Name: 2020-04-09 00:00:00, dtype: float64\n"
     ]
    }
   ],
   "source": [
    "dicAll = {}\n",
    "\n",
    "for col in range(len(df.columns)):\n",
    "    print(df.columns[col])\n",
    "    Window = 20\n",
    "    Pointer = {}\n",
    "    for x in range(len(pd.concat((SPX[-252*3:], df[-252*3:][df.columns[col]]), axis=1).dropna()) - Window):\n",
    "        Cov = np.cov(pd.concat((SPX[-252*3:], df[-252*3:][df.columns[col]]), axis=1).dropna().iloc[x:x+Window].T)\n",
    "        Pointer[pd.concat((SPX[-252*3:], df[-252*3:][df.columns[col]]), axis=1).dropna().index[x+Window]] = Cov[1,0] / Cov[0,0]\n",
    "    Window = 60\n",
    "    Pointer2 = {}\n",
    "    for x in range(len(pd.concat((SPX[-252*3:], df[-252*3:][df.columns[col]]), axis=1).dropna()) - Window):\n",
    "        Cov = np.cov(pd.concat((SPX[-252*3:], df[-252*3:][df.columns[col]]), axis=1).dropna().iloc[x:x+Window].T)\n",
    "        Pointer2[pd.concat((SPX[-252*3:], df[-252*3:][df.columns[col]]), axis=1).dropna().index[x+Window]] = Cov[1,0] / Cov[0,0]\n",
    "    Pointer3 = pd.concat(( pd.Series(Pointer), pd.Series(Pointer2)), axis = 1)\n",
    "    Pointer3.columns = [\"1M\", \"3M\"]\n",
    "    print(Pointer3.iloc[-1])\n",
    "    dicAll[df.columns[col]] = Pointer3.iloc[-1]\n",
    "    \n"
   ]
  },
  {
   "cell_type": "code",
   "execution_count": 33,
   "metadata": {},
   "outputs": [
    {
     "data": {
      "text/plain": [
       "[<matplotlib.lines.Line2D at 0x1a4cb99b788>,\n",
       " <matplotlib.lines.Line2D at 0x1a4cb99b808>]"
      ]
     },
     "execution_count": 33,
     "metadata": {},
     "output_type": "execute_result"
    },
    {
     "data": {
      "image/png": "[encoded data removed]",
      "text/plain": [
       "<Figure size 432x288 with 1 Axes>"
      ]
     },
     "metadata": {
      "needs_background": "light"
     },
     "output_type": "display_data"
    }
   ],
   "source": [
    "plt.plot(Pointer3)"
   ]
  },
  {
   "cell_type": "code",
   "execution_count": 42,
   "metadata": {},
   "outputs": [],
   "source": [
    "pd.DataFrame(dicAll).T.to_clipboard()"
   ]
  },
  {
   "cell_type": "code",
   "execution_count": 27,
   "metadata": {},
   "outputs": [],
   "source": [
    "test = {}\n",
    "testo = pd.concat((SPX, df[\"NKE US Equity\"]), axis = 1)[-252*3:].dropna()\n",
    "\n",
    "for x in range(len(testo)-20):\n",
    "    test[testo.index[20+x]] = np.cov(testo[x:20+x].T)[1,0] / np.cov(testo[x:x+20].T)[0,0]"
   ]
  },
  {
   "cell_type": "code",
   "execution_count": 28,
   "metadata": {},
   "outputs": [
    {
     "data": {
      "text/plain": [
       "[<matplotlib.lines.Line2D at 0x1a4cb7492c8>]"
      ]
     },
     "execution_count": 28,
     "metadata": {},
     "output_type": "execute_result"
    },
    {
     "data": {
      "image/png": "[encoded data removed]",
      "text/plain": [
       "<Figure size 432x288 with 1 Axes>"
      ]
     },
     "metadata": {
      "needs_background": "light"
     },
     "output_type": "display_data"
    }
   ],
   "source": [
    "plt.plot(pd.Series(test))"
   ]
  },
  {
   "cell_type": "code",
   "execution_count": 15,
   "metadata": {},
   "outputs": [
    {
     "data": {
      "text/html": [
       "<div>\n",
       "<style scoped>\n",
       "    .dataframe tbody tr th:only-of-type {\n",
       "        vertical-align: middle;\n",
       "    }\n",
       "\n",
       "    .dataframe tbody tr th {\n",
       "        vertical-align: top;\n",
       "    }\n",
       "\n",
       "    .dataframe thead th {\n",
       "        text-align: right;\n",
       "    }\n",
       "</style>\n",
       "<table border=\"1\" class=\"dataframe\">\n",
       "  <thead>\n",
       "    <tr style=\"text-align: right;\">\n",
       "      <th></th>\n",
       "      <th>SPX Index</th>\n",
       "      <th>0</th>\n",
       "    </tr>\n",
       "  </thead>\n",
       "  <tbody>\n",
       "    <tr>\n",
       "      <th>2017-04-10</th>\n",
       "      <td>NaN</td>\n",
       "      <td>-0.000684</td>\n",
       "    </tr>\n",
       "    <tr>\n",
       "      <th>2017-04-11</th>\n",
       "      <td>NaN</td>\n",
       "      <td>-0.000171</td>\n",
       "    </tr>\n",
       "    <tr>\n",
       "      <th>2017-04-12</th>\n",
       "      <td>NaN</td>\n",
       "      <td>-0.009459</td>\n",
       "    </tr>\n",
       "    <tr>\n",
       "      <th>2017-04-13</th>\n",
       "      <td>NaN</td>\n",
       "      <td>-0.005893</td>\n",
       "    </tr>\n",
       "    <tr>\n",
       "      <th>2017-04-17</th>\n",
       "      <td>NaN</td>\n",
       "      <td>0.017575</td>\n",
       "    </tr>\n",
       "    <tr>\n",
       "      <th>...</th>\n",
       "      <td>...</td>\n",
       "      <td>...</td>\n",
       "    </tr>\n",
       "    <tr>\n",
       "      <th>2020-04-03</th>\n",
       "      <td>NaN</td>\n",
       "      <td>-0.008571</td>\n",
       "    </tr>\n",
       "    <tr>\n",
       "      <th>2020-04-06</th>\n",
       "      <td>NaN</td>\n",
       "      <td>0.023356</td>\n",
       "    </tr>\n",
       "    <tr>\n",
       "      <th>2020-04-07</th>\n",
       "      <td>NaN</td>\n",
       "      <td>-0.010193</td>\n",
       "    </tr>\n",
       "    <tr>\n",
       "      <th>2020-04-08</th>\n",
       "      <td>NaN</td>\n",
       "      <td>-0.008028</td>\n",
       "    </tr>\n",
       "    <tr>\n",
       "      <th>2020-04-09</th>\n",
       "      <td>NaN</td>\n",
       "      <td>0.002516</td>\n",
       "    </tr>\n",
       "  </tbody>\n",
       "</table>\n",
       "<p>756 rows × 2 columns</p>\n",
       "</div>"
      ],
      "text/plain": [
       "            SPX Index         0\n",
       "2017-04-10        NaN -0.000684\n",
       "2017-04-11        NaN -0.000171\n",
       "2017-04-12        NaN -0.009459\n",
       "2017-04-13        NaN -0.005893\n",
       "2017-04-17        NaN  0.017575\n",
       "...               ...       ...\n",
       "2020-04-03        NaN -0.008571\n",
       "2020-04-06        NaN  0.023356\n",
       "2020-04-07        NaN -0.010193\n",
       "2020-04-08        NaN -0.008028\n",
       "2020-04-09        NaN  0.002516\n",
       "\n",
       "[756 rows x 2 columns]"
      ]
     },
     "execution_count": 15,
     "metadata": {},
     "output_type": "execute_result"
    }
   ],
   "source": [
    " pd.concat((SPX, df[\"TTWO US Equity\"]))[-252*3:]"
   ]
  },
  {
   "cell_type": "code",
   "execution_count": 16,
   "metadata": {},
   "outputs": [
    {
     "data": {
      "text/html": [
       "<div>\n",
       "<style scoped>\n",
       "    .dataframe tbody tr th:only-of-type {\n",
       "        vertical-align: middle;\n",
       "    }\n",
       "\n",
       "    .dataframe tbody tr th {\n",
       "        vertical-align: top;\n",
       "    }\n",
       "\n",
       "    .dataframe thead th {\n",
       "        text-align: right;\n",
       "    }\n",
       "</style>\n",
       "<table border=\"1\" class=\"dataframe\">\n",
       "  <thead>\n",
       "    <tr style=\"text-align: right;\">\n",
       "      <th></th>\n",
       "      <th>SPX Index</th>\n",
       "    </tr>\n",
       "  </thead>\n",
       "  <tbody>\n",
       "    <tr>\n",
       "      <th>2015-01-05</th>\n",
       "      <td>-0.018447</td>\n",
       "    </tr>\n",
       "    <tr>\n",
       "      <th>2015-01-06</th>\n",
       "      <td>-0.008933</td>\n",
       "    </tr>\n",
       "    <tr>\n",
       "      <th>2015-01-07</th>\n",
       "      <td>0.011563</td>\n",
       "    </tr>\n",
       "    <tr>\n",
       "      <th>2015-01-08</th>\n",
       "      <td>0.017730</td>\n",
       "    </tr>\n",
       "    <tr>\n",
       "      <th>2015-01-09</th>\n",
       "      <td>-0.008439</td>\n",
       "    </tr>\n",
       "    <tr>\n",
       "      <th>...</th>\n",
       "      <td>...</td>\n",
       "    </tr>\n",
       "    <tr>\n",
       "      <th>2020-04-03</th>\n",
       "      <td>-0.015253</td>\n",
       "    </tr>\n",
       "    <tr>\n",
       "      <th>2020-04-06</th>\n",
       "      <td>0.067968</td>\n",
       "    </tr>\n",
       "    <tr>\n",
       "      <th>2020-04-07</th>\n",
       "      <td>-0.001604</td>\n",
       "    </tr>\n",
       "    <tr>\n",
       "      <th>2020-04-08</th>\n",
       "      <td>0.033489</td>\n",
       "    </tr>\n",
       "    <tr>\n",
       "      <th>2020-04-09</th>\n",
       "      <td>0.014383</td>\n",
       "    </tr>\n",
       "  </tbody>\n",
       "</table>\n",
       "<p>1326 rows × 1 columns</p>\n",
       "</div>"
      ],
      "text/plain": [
       "            SPX Index\n",
       "2015-01-05  -0.018447\n",
       "2015-01-06  -0.008933\n",
       "2015-01-07   0.011563\n",
       "2015-01-08   0.017730\n",
       "2015-01-09  -0.008439\n",
       "...               ...\n",
       "2020-04-03  -0.015253\n",
       "2020-04-06   0.067968\n",
       "2020-04-07  -0.001604\n",
       "2020-04-08   0.033489\n",
       "2020-04-09   0.014383\n",
       "\n",
       "[1326 rows x 1 columns]"
      ]
     },
     "execution_count": 16,
     "metadata": {},
     "output_type": "execute_result"
    }
   ],
   "source": [
    "SPX"
   ]
  },
  {
   "cell_type": "code",
   "execution_count": null,
   "metadata": {},
   "outputs": [],
   "source": []
  }
 ],
 "metadata": {
  "kernelspec": {
   "display_name": "Python 3",
   "language": "python",
   "name": "python3"
  },
  "language_info": {
   "codemirror_mode": {
    "name": "ipython",
    "version": 3
   },
   "file_extension": ".py",
   "mimetype": "text/x-python",
   "name": "python",
   "nbconvert_exporter": "python",
   "pygments_lexer": "ipython3",
   "version": "3.7.6"
  }
 },
 "nbformat": 4,
 "nbformat_minor": 4
}
