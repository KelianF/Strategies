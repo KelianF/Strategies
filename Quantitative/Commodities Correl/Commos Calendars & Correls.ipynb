{
 "cells": [
  {
   "cell_type": "markdown",
   "metadata": {},
   "source": [
    "# Moving Cross Correl"
   ]
  },
  {
   "cell_type": "markdown",
   "metadata": {},
   "source": [
    " "
   ]
  },
  {
   "cell_type": "markdown",
   "metadata": {},
   "source": [
    "## Imports"
   ]
  },
  {
   "cell_type": "code",
   "execution_count": 2,
   "metadata": {},
   "outputs": [],
   "source": [
    "import pandas as pd\n",
    "import numpy as np\n",
    "import matplotlib.pyplot as plt\n",
    "\n",
    "from xbbg import blp"
   ]
  },
  {
   "cell_type": "markdown",
   "metadata": {},
   "source": [
    "## Helper Functions"
   ]
  },
  {
   "cell_type": "code",
   "execution_count": 26,
   "metadata": {},
   "outputs": [],
   "source": [
    "def GetRet(Liste, Start = \"20150101\", End = pd.to_datetime(\"today\").strftime(\"%Y%m%d\")):\n",
    "    Res = blp.bdh(tickers= [x + \"1 Comdty\" for x in Liste],start_date = Start , end_date = End)\n",
    "    Res.columns = [x[0] for x in Res.columns]\n",
    "    Ret = (np.log(Res) - np.log(Res.shift(1))).iloc[1:,:]\n",
    "    return Ret\n",
    "\n",
    "def Plot(Ret):\n",
    "    print(\"Sharpe\", np.sqrt(252) * Ret.mean()/Ret.std())\n",
    "    Ret = Ret + 1\n",
    "    if type(Ret) == type(pd.Series(0)):\n",
    "        Ret[0] = 100\n",
    "    else:\n",
    "        Ret.iloc[0,0] = 100\n",
    "    plt.plot(Ret.cumprod())"
   ]
  },
  {
   "cell_type": "markdown",
   "metadata": {},
   "source": [
    "## Commodities"
   ]
  },
  {
   "cell_type": "code",
   "execution_count": 3,
   "metadata": {},
   "outputs": [],
   "source": [
    "Commo_dict = {\n",
    "    \"Chicago Wheat\": \"W \",\n",
    "    \"Kansas Wheat\": \"KW\",\n",
    "    \"Corn\": \"C \",\n",
    "    \"Soybeans\": \"S \",\n",
    "    \"Soybean Oil\" : \"BO\",\n",
    "    \"Soybean Meal\" : \"SM\",\n",
    "    \"Coffee\" : \"KC\",\n",
    "    \"Orange Juice\" : \"JO\",\n",
    "    \"Sugar\" : \"SB\",\n",
    "    \"Cocoa\" : \"CC\",\n",
    "    \"Cotton\" : \"CT\",\n",
    "    \"Lean Hogs\" : \"LH\",\n",
    "    \"Live Cattle\"  : \"LC\",\n",
    "    \"Feeder Cattle\" : \"FC\",\n",
    "    \"WTI Crude Oil\" : \"CL\",\n",
    "    \"Heating Oil\" : \"HO\",\n",
    "    \"RBOB Gasoline\" : \"XB\",\n",
    "    \"Brent Crude Oil\" : \"CO\",\n",
    "    \"Gasoil\" :  \"QS\",\n",
    "    \"Natural Gas\" : \"NG\",\n",
    "    \"Aluminum\" : \"LA\",\n",
    "    \"Copper\" : \"HG\",\n",
    "    \"Nickel\" : \"LN\",\n",
    "    \"Lead\" : \"LL\",\n",
    "    \"Zinc\" : \"LX\",\n",
    "    \"Gold\" : \"GC\",\n",
    "    \"Silver\" : \"SI\",\n",
    "    \"Tin\" : \"LT\",\n",
    "    \"Platinium\" : \"PL\"\n",
    "             }"
   ]
  },
  {
   "cell_type": "markdown",
   "metadata": {},
   "source": [
    "## Calendars"
   ]
  },
  {
   "cell_type": "code",
   "execution_count": null,
   "metadata": {},
   "outputs": [],
   "source": [
    "MonthCode ={1 : \"F\",\n",
    "            2 : \"G\",\n",
    "            3 : \"H\",\n",
    "            4 : \"J\",\n",
    "            5 : \"K\",\n",
    "            6 : \"M\",\n",
    "            7 : \"N\",\n",
    "            8 : \"Q\",\n",
    "            9 : \"U\",\n",
    "            10 : \"V\",\n",
    "            11 : \"X\",\n",
    "            12 : \"Z\"}"
   ]
  },
  {
   "cell_type": "code",
   "execution_count": 1,
   "metadata": {},
   "outputs": [],
   "source": [
    "GSCICalendarLetter={\n",
    "        'W ': {'1':'H', '2':'H', '3':'K', '4':'K', '5':'N', '6':'N', '7':'U', '8':'U', '9':'Z', '10':'Z', '11':'Z', '12':'H'},\n",
    "        'KW': {'1':'H', '2':'H', '3':'K', '4':'K', '5':'N', '6':'N', '7':'U', '8':'U', '9':'Z', '10':'Z', '11':'Z', '12':'H'},\n",
    "        'C ': {'1':'H', '2':'H', '3':'K', '4':'K', '5':'N', '6':'N', '7':'U', '8':'U', '9':'Z', '10':'Z', '11':'Z', '12':'H'},\n",
    "        'S ': {'1':'H', '2':'H', '3':'K', '4':'K', '5':'N', '6':'N', '7':'X', '8':'X', '9':'X', '10':'X', '11':'F', '12':'F'},\n",
    "        'KC': {'1':'H', '2':'H', '3':'K', '4':'K', '5':'N', '6':'N', '7':'U', '8':'U', '9':'Z', '10':'Z', '11':'Z', '12':'H'},\n",
    "        'SB': {'1':'H', '2':'H', '3':'K', '4':'K', '5':'N', '6':'N', '7':'V', '8':'V', '9':'V', '10':'H', '11':'H', '12':'H'},\n",
    "        'CC': {'1':'H', '2':'H', '3':'K', '4':'K', '5':'N', '6':'N', '7':'U', '8':'U', '9':'Z', '10':'Z', '11':'Z', '12':'H'},\n",
    "        'CT': {'1':'H', '2':'H', '3':'K', '4':'K', '5':'N', '6':'N', '7':'Z', '8':'Z', '9':'Z', '10':'Z', '11':'Z', '12':'H'},\n",
    "        'LH': {'1':'G', '2':'J', '3':'J', '4':'M', '5':'M', '6':'N', '7':'Q', '8':'V', '9':'V', '10':'Z', '11':'Z', '12':'G'},\n",
    "        'LC': {'1':'G', '2':'J', '3':'J', '4':'M', '5':'M', '6':'Q', '7':'Q', '8':'V', '9':'V', '10':'Z', '11':'Z', '12':'G'},\n",
    "        'FC': {'1':'H', '2':'H', '3':'J', '4':'K', '5':'Q', '6':'Q', '7':'Q', '8':'U', '9':'V', '10':'X', '11':'F', '12':'F'},\n",
    "        'CL': {'1':'G', '2':'H', '3':'J', '4':'K', '5':'M', '6':'N', '7':'Q', '8':'U', '9':'V', '10':'X', '11':'Z', '12':'F'},\n",
    "        'HO': {'1':'G', '2':'H', '3':'J', '4':'K', '5':'M', '6':'N', '7':'Q', '8':'U', '9':'V', '10':'X', '11':'Z', '12':'F'},\n",
    "        'XB': {'1':'G', '2':'H', '3':'J', '4':'K', '5':'M', '6':'N', '7':'Q', '8':'U', '9':'V', '10':'X', '11':'Z', '12':'F'},\n",
    "        'CO': {'1':'H', '2':'J', '3':'K', '4':'M', '5':'N', '6':'Q', '7':'U', '8':'V', '9':'X', '10':'Z', '11':'F', '12':'G'},\n",
    "        'QS': {'1':'G', '2':'H', '3':'J', '4':'K', '5':'M', '6':'N', '7':'Q', '8':'U', '9':'V', '10':'X', '11':'Z', '12':'F'},\n",
    "        'NG': {'1':'G', '2':'H', '3':'J', '4':'K', '5':'M', '6':'N', '7':'Q', '8':'U', '9':'V', '10':'X', '11':'Z', '12':'F'},\n",
    "        'LA': {'1':'G', '2':'H', '3':'J', '4':'K', '5':'M', '6':'N', '7':'Q', '8':'U', '9':'V', '10':'X', '11':'Z', '12':'F'},\n",
    "        'HG': {'1':'G', '2':'H', '3':'J', '4':'K', '5':'M', '6':'N', '7':'Q', '8':'U', '9':'V', '10':'X', '11':'Z', '12':'F'},\n",
    "        'LN': {'1':'G', '2':'H', '3':'J', '4':'K', '5':'M', '6':'N', '7':'Q', '8':'U', '9':'V', '10':'X', '11':'Z', '12':'F'},\n",
    "        'LL': {'1':'G', '2':'H', '3':'J', '4':'K', '5':'M', '6':'N', '7':'Q', '8':'U', '9':'V', '10':'X', '11':'Z', '12':'F'},\n",
    "        'LX': {'1':'G', '2':'H', '3':'J', '4':'K', '5':'M', '6':'N', '7':'Q', '8':'U', '9':'V', '10':'X', '11':'Z', '12':'F'},\n",
    "        'GC': {'1':'G', '2':'J', '3':'J', '4':'M', '5':'M', '6':'Q', '7':'Q', '8':'Z', '9':'Z', '10':'Z', '11':'Z', '12':'G'},\n",
    "        'SI': {'1':'H', '2':'H', '3':'K', '4':'K', '5':'N', '6':'N', '7':'U', '8':'U', '9':'Z', '10':'Z', '11':'Z', '12':'H'}\n",
    "}"
   ]
  },
  {
   "cell_type": "code",
   "execution_count": 2,
   "metadata": {},
   "outputs": [],
   "source": [
    "GSCICalendarNumbers = {\n",
    "            'W ': {'1':'3', '2':'3', '3':'5', '4':'5', '5':'7', '6':'7', '7':'9', '8':'9', '9':'12', '10':'12', '11':'12', '12':'3'},\n",
    "            'KW': {'1':'3', '2':'3', '3':'5', '4':'5', '5':'7', '6':'7', '7':'9', '8':'9', '9':'12', '10':'12', '11':'12', '12':'3'},\n",
    "            'C ': {'1':'3', '2':'3', '3':'5', '4':'5', '5':'7', '6':'7', '7':'9', '8':'9', '9':'12', '10':'12', '11':'12', '12':'3'},\n",
    "            'S ': {'1':'3', '2':'3', '3':'5', '4':'5', '5':'7', '6':'7', '7':'11', '8':'11', '9':'11', '10':'11', '11':'1', '12':'1'},\n",
    "            'KC': {'1':'3', '2':'3', '3':'5', '4':'5', '5':'7', '6':'7', '7':'9', '8':'9', '9':'12', '10':'12', '11':'12', '12':'3'},\n",
    "            'SB': {'1':'3', '2':'3', '3':'5', '4':'5', '5':'7', '6':'7', '7':'10', '8':'10', '9':'10', '10':'3', '11':'3', '12':'3'},\n",
    "            'CC': {'1':'3', '2':'3', '3':'5', '4':'5', '5':'7', '6':'7', '7':'9', '8':'9', '9':'12', '10':'12', '11':'12', '12':'3'},\n",
    "            'CT': {'1':'3', '2':'3', '3':'5', '4':'5', '5':'7', '6':'7', '7':'12', '8':'12', '9':'12', '10':'12', '11':'12', '12':'3'},\n",
    "            'LH': {'1':'2', '2':'4', '3':'4', '4':'6', '5':'6', '6':'7', '7':'8', '8':'10', '9':'10', '10':'12', '11':'12', '12':'2'},\n",
    "            'LC': {'1':'2', '2':'4', '3':'4', '4':'6', '5':'6', '6':'8', '7':'8', '8':'10', '9':'10', '10':'12', '11':'12', '12':'2'},\n",
    "            'FC': {'1':'3', '2':'3', '3':'4', '4':'5', '5':'8', '6':'8', '7':'8', '8':'9', '9':'10', '10':'11', '11':'1', '12':'1'},\n",
    "            'CL': {'1':'2', '2':'3', '3':'4', '4':'5', '5':'6', '6':'7', '7':'8', '8':'9', '9':'10', '10':'11', '11':'12', '12':'1'},\n",
    "            'HO': {'1':'2', '2':'3', '3':'4', '4':'5', '5':'6', '6':'7', '7':'8', '8':'9', '9':'10', '10':'11', '11':'12', '12':'1'},\n",
    "            'XB': {'1':'2', '2':'3', '3':'4', '4':'5', '5':'6', '6':'7', '7':'8', '8':'9', '9':'10', '10':'11', '11':'12', '12':'1'},\n",
    "            'CO': {'1':'3', '2':'4', '3':'5', '4':'6', '5':'7', '6':'8', '7':'9', '8':'10', '9':'11', '10':'12', '11':'1', '12':'2'},\n",
    "            'QS': {'1':'2', '2':'3', '3':'4', '4':'5', '5':'6', '6':'7', '7':'8', '8':'9', '9':'10', '10':'11', '11':'12', '12':'1'},\n",
    "            'NG': {'1':'2', '2':'3', '3':'4', '4':'5', '5':'6', '6':'7', '7':'8', '8':'9', '9':'10', '10':'11', '11':'12', '12':'1'},\n",
    "            'LA': {'1':'2', '2':'3', '3':'4', '4':'5', '5':'6', '6':'7', '7':'8', '8':'9', '9':'10', '10':'11', '11':'12', '12':'1'},\n",
    "            'HG': {'1':'2', '2':'3', '3':'4', '4':'5', '5':'6', '6':'7', '7':'8', '8':'9', '9':'10', '10':'11', '11':'12', '12':'1'},\n",
    "            'LN': {'1':'2', '2':'3', '3':'4', '4':'5', '5':'6', '6':'7', '7':'8', '8':'9', '9':'10', '10':'11', '11':'12', '12':'1'},\n",
    "            'LL': {'1':'2', '2':'3', '3':'4', '4':'5', '5':'6', '6':'7', '7':'8', '8':'9', '9':'10', '10':'11', '11':'12', '12':'1'},\n",
    "            'LX': {'1':'2', '2':'3', '3':'4', '4':'5', '5':'6', '6':'7', '7':'8', '8':'9', '9':'10', '10':'11', '11':'12', '12':'1'},\n",
    "            'GC': {'1':'2', '2':'4', '3':'4', '4':'6', '5':'6', '6':'8', '7':'8', '8':'12', '9':'12', '10':'12', '11':'12', '12':'2'},\n",
    "            'SI': {'1':'3', '2':'3', '3':'5', '4':'5', '5':'7', '6':'7', '7':'9', '8':'9', '9':'12', '10':'12', '11':'12', '12':'3'}\n",
    "}"
   ]
  },
  {
   "cell_type": "code",
   "execution_count": 2,
   "metadata": {},
   "outputs": [],
   "source": [
    "BCOMCalendarLetter = {\n",
    "    'LA': {'1':'H', '2':'H', '3':'K', '4':'K', '5':'N', '6':'N', '7':'U', '8':'U', '9':'X', '10':'X', '11':'F', '12':'F'},\n",
    "    'CC': {'1':'H', '2':'H', '3':'K', '4':'K', '5':'N', '6':'N', '7':'U', '8':'U', '9':'Z', '10':'Z', '11':'Z', '12':'H'},\n",
    "    'KC': {'1':'H', '2':'H', '3':'K', '4':'K', '5':'N', '6':'N', '7':'U', '8':'U', '9':'Z', '10':'Z', '11':'Z', '12':'H'},\n",
    "    'HG': {'1':'H', '2':'H', '3':'K', '4':'K', '5':'N', '6':'N', '7':'U', '8':'U', '9':'Z', '10':'Z', '11':'Z', '12':'H'},\n",
    "    'C ': {'1':'H', '2':'H', '3':'K', '4':'K', '5':'N', '6':'N', '7':'U', '8':'U', '9':'Z', '10':'Z', '11':'Z', '12':'H'},\n",
    "    'CT': {'1':'H', '2':'H', '3':'K', '4':'K', '5':'N', '6':'N', '7':'Z', '8':'Z', '9':'Z', '10':'Z', '11':'Z', '12':'H'},\n",
    "    'CO': {'1':'H', '2':'K', '3':'K', '4':'N', '5':'N', '6':'U', '7':'U', '8':'X', '9':'X', '10':'F', '11':'F', '12':'H'},\n",
    "    'CL': {'1':'H', '2':'H', '3':'K', '4':'K', '5':'N', '6':'N', '7':'U', '8':'U', '9':'X', '10':'X', '11':'F', '12':'F'},\n",
    "    'FC': {'1':'H', '2':'H', '3':'K', '4':'K', '5':'Q', '6':'Q', '7':'Q', '8':'V', '9':'V', '10':'F', '11':'F', '12':'F'},\n",
    "    'QS': {'1':'H', '2':'H', '3':'K', '4':'K', '5':'N', '6':'N', '7':'U', '8':'U', '9':'X', '10':'X', '11':'F', '12':'F'},\n",
    "    'GC': {'1':'G', '2':'J', '3':'J', '4':'M', '5':'M', '6':'Q', '7':'Q', '8':'Z', '9':'Z', '10':'Z', '11':'Z', '12':'G'},\n",
    "    'HO': {'1':'H', '2':'H', '3':'K', '4':'K', '5':'N', '6':'N', '7':'U', '8':'U', '9':'X', '10':'X', '11':'F', '12':'F'},\n",
    "    'LL': {'1':'H', '2':'H', '3':'K', '4':'K', '5':'N', '6':'N', '7':'U', '8':'U', '9':'X', '10':'X', '11':'F', '12':'F'},\n",
    "    'LH': {'1':'G', '2':'J', '3':'J', '4':'M', '5':'M', '6':'N', '7':'Q', '8':'V', '9':'V', '10':'Z', '11':'Z', '12':'G'},\n",
    "    'LC': {'1':'G', '2':'J', '3':'J', '4':'M', '5':'M', '6':'Q', '7':'Q', '8':'V', '9':'V', '10':'Z', '11':'Z', '12':'G'},\n",
    "    'NG': {'1':'H', '2':'H', '3':'K', '4':'K', '5':'N', '6':'N', '7':'U', '8':'U', '9':'X', '10':'X', '11':'F', '12':'F'},\n",
    "    'LN': {'1':'H', '2':'H', '3':'K', '4':'K', '5':'N', '6':'N', '7':'U', '8':'U', '9':'X', '10':'X', '11':'F', '12':'F'},\n",
    "    'JO': {'1':'H', '2':'H', '3':'K', '4':'K', '5':'N', '6':'N', '7':'U', '8':'U', '9':'X', '10':'X', '11':'F', '12':'F'},\n",
    "    'PL': {'1':'J', '2':'J', '3':'J', '4':'N', '5':'N', '6':'N', '7':'V', '8':'V', '9':'V', '10':'F', '11':'F', '12':'F'},\n",
    "    'SI': {'1':'H', '2':'H', '3':'K', '4':'K', '5':'N', '6':'N', '7':'U', '8':'U', '9':'Z', '10':'Z', '11':'Z', '12':'H'},\n",
    "    'SM': {'1':'H', '2':'H', '3':'K', '4':'K', '5':'N', '6':'N', '7':'Z', '8':'Z', '9':'Z', '10':'Z', '11':'F', '12':'F'},\n",
    "    'BO': {'1':'H', '2':'H', '3':'K', '4':'K', '5':'N', '6':'N', '7':'Z', '8':'Z', '9':'Z', '10':'Z', '11':'F', '12':'F'},\n",
    "    'S ': {'1':'H', '2':'H', '3':'K', '4':'K', '5':'N', '6':'N', '7':'X', '8':'X', '9':'X', '10':'X', '11':'F', '12':'F'},\n",
    "    'SB': {'1':'H', '2':'H', '3':'K', '4':'K', '5':'N', '6':'N', '7':'V', '8':'V', '9':'V', '10':'H', '11':'H', '12':'H'},\n",
    "    'LT': {'1':'H', '2':'H', '3':'K', '4':'K', '5':'N', '6':'N', '7':'U', '8':'U', '9':'X', '10':'X', '11':'F', '12':'F'},\n",
    "    'XB': {'1':'H', '2':'H', '3':'K', '4':'K', '5':'N', '6':'N', '7':'U', '8':'U', '9':'X', '10':'X', '11':'F', '12':'F'},\n",
    "    'W ': {'1':'H', '2':'H', '3':'K', '4':'K', '5':'N', '6':'N', '7':'U', '8':'U', '9':'Z', '10':'Z', '11':'Z', '12':'H'},\n",
    "    'LX': {'1':'H', '2':'H', '3':'K', '4':'K', '5':'N', '6':'N', '7':'U', '8':'U', '9':'X', '10':'X', '11':'F', '12':'F'}\n",
    "    }"
   ]
  },
  {
   "cell_type": "code",
   "execution_count": 3,
   "metadata": {},
   "outputs": [],
   "source": [
    "BCOMCalendarNumbers = {\n",
    "    'LA': {'1':'3', '2':'3', '3':'5', '4':'5', '5':'7', '6':'7', '7':'9', '8':'9', '9':'11', '10':'11', '11':'1', '12':'1'},\n",
    "    'CC': {'1':'3', '2':'3', '3':'5', '4':'5', '5':'7', '6':'7', '7':'9', '8':'9', '9':'12', '10':'12', '11':'12', '12':'3'},\n",
    "    'KC': {'1':'3', '2':'3', '3':'5', '4':'5', '5':'7', '6':'7', '7':'9', '8':'9', '9':'12', '10':'12', '11':'12', '12':'3'},\n",
    "    'HG': {'1':'3', '2':'3', '3':'5', '4':'5', '5':'7', '6':'7', '7':'9', '8':'9', '9':'12', '10':'12', '11':'12', '12':'3'},\n",
    "    'C ': {'1':'3', '2':'3', '3':'5', '4':'5', '5':'7', '6':'7', '7':'9', '8':'9', '9':'12', '10':'12', '11':'12', '12':'3'},\n",
    "    'CT': {'1':'3', '2':'3', '3':'5', '4':'5', '5':'7', '6':'7', '7':'12', '8':'12', '9':'12', '10':'12', '11':'12', '12':'3'},\n",
    "    'CO': {'1':'3', '2':'5', '3':'5', '4':'7', '5':'7', '6':'9', '7':'9', '8':'11', '9':'11', '10':'1', '11':'1', '12':'3'},\n",
    "    'CL': {'1':'3', '2':'3', '3':'5', '4':'5', '5':'7', '6':'7', '7':'9', '8':'9', '9':'11', '10':'11', '11':'1', '12':'1'},\n",
    "    'FC': {'1':'3', '2':'3', '3':'5', '4':'5', '5':'8', '6':'8', '7':'8', '8':'10', '9':'10', '10':'1', '11':'1', '12':'1'},\n",
    "    'QS': {'1':'3', '2':'3', '3':'5', '4':'5', '5':'7', '6':'7', '7':'9', '8':'9', '9':'11', '10':'11', '11':'1', '12':'1'},\n",
    "    'GC': {'1':'2', '2':'4', '3':'4', '4':'6', '5':'6', '6':'8', '7':'8', '8':'12', '9':'12', '10':'12', '11':'12', '12':'2'},\n",
    "    'HO': {'1':'3', '2':'3', '3':'5', '4':'5', '5':'7', '6':'7', '7':'9', '8':'9', '9':'11', '10':'11', '11':'1', '12':'1'},\n",
    "    'LL': {'1':'3', '2':'3', '3':'5', '4':'5', '5':'7', '6':'7', '7':'9', '8':'9', '9':'11', '10':'11', '11':'1', '12':'1'},\n",
    "    'LH': {'1':'2', '2':'4', '3':'4', '4':'6', '5':'6', '6':'7', '7':'8', '8':'10', '9':'10', '10':'12', '11':'12', '12':'2'},\n",
    "    'LC': {'1':'2', '2':'4', '3':'4', '4':'6', '5':'6', '6':'8', '7':'8', '8':'10', '9':'10', '10':'12', '11':'12', '12':'2'},\n",
    "    'NG': {'1':'3', '2':'3', '3':'5', '4':'5', '5':'7', '6':'7', '7':'9', '8':'9', '9':'11', '10':'11', '11':'1', '12':'1'},\n",
    "    'LN': {'1':'3', '2':'3', '3':'5', '4':'5', '5':'7', '6':'7', '7':'9', '8':'9', '9':'11', '10':'11', '11':'1', '12':'1'},\n",
    "    'JO': {'1':'3', '2':'3', '3':'5', '4':'5', '5':'7', '6':'7', '7':'9', '8':'9', '9':'11', '10':'11', '11':'1', '12':'1'},\n",
    "    'PL': {'1':'4', '2':'4', '3':'4', '4':'7', '5':'7', '6':'7', '7':'10', '8':'10', '9':'10', '10':'1', '11':'1', '12':'1'},\n",
    "    'SI': {'1':'3', '2':'3', '3':'5', '4':'5', '5':'7', '6':'7', '7':'9', '8':'9', '9':'12', '10':'12', '11':'12', '12':'3'},\n",
    "    'SM': {'1':'3', '2':'3', '3':'5', '4':'5', '5':'7', '6':'7', '7':'12', '8':'12', '9':'12', '10':'12', '11':'1', '12':'1'},\n",
    "    'BO': {'1':'3', '2':'3', '3':'5', '4':'5', '5':'7', '6':'7', '7':'12', '8':'12', '9':'12', '10':'12', '11':'1', '12':'1'},\n",
    "    'S ': {'1':'3', '2':'3', '3':'5', '4':'5', '5':'7', '6':'7', '7':'11', '8':'11', '9':'11', '10':'11', '11':'1', '12':'1'},\n",
    "    'SB': {'1':'3', '2':'3', '3':'5', '4':'5', '5':'7', '6':'7', '7':'10', '8':'10', '9':'10', '10':'3', '11':'3', '12':'3'},\n",
    "    'LT': {'1':'3', '2':'3', '3':'5', '4':'5', '5':'7', '6':'7', '7':'9', '8':'9', '9':'11', '10':'11', '11':'1', '12':'1'},\n",
    "    'XB': {'1':'3', '2':'3', '3':'5', '4':'5', '5':'7', '6':'7', '7':'9', '8':'9', '9':'11', '10':'11', '11':'1', '12':'1'},\n",
    "    'W ': {'1':'3', '2':'3', '3':'5', '4':'5', '5':'7', '6':'7', '7':'9', '8':'9', '9':'12', '10':'12', '11':'12', '12':'3'},\n",
    "    'LX': {'1':'3', '2':'3', '3':'5', '4':'5', '5':'7', '6':'7', '7':'9', '8':'9', '9':'11', '10':'11', '11':'1', '12':'1'}\n",
    "}"
   ]
  },
  {
   "cell_type": "markdown",
   "metadata": {},
   "source": [
    "# Pair Correl Function"
   ]
  },
  {
   "cell_type": "code",
   "execution_count": 42,
   "metadata": {},
   "outputs": [],
   "source": [
    "def PairCorrel(Pair, Window = 252, Start = \"20150101\", End = pd.to_datetime(\"today\").strftime(\"%Y%m%d\")):\n",
    "    Res = GetRet(Pair, Start = Start, End = End)\n",
    "    Res.columns = [x.split(\" \")[0] for x in Res.columns]\n",
    "    df = {}\n",
    "    for x in range(len(Res) - Window):\n",
    "        df[Res.index[x+Window]] = Res.iloc[x:x+Window,:].corr().iloc[0,1]\n",
    "    \n",
    "    plt.plot(pd.Series(df))\n",
    "    plt.xticks(rotation=45)\n",
    "    plt.show()\n",
    "    return \"Plot!\"\n",
    "    \n",
    "\n",
    "    "
   ]
  },
  {
   "cell_type": "code",
   "execution_count": 44,
   "metadata": {},
   "outputs": [
    {
     "data": {
      "image/png": "[encoded data removed]",
      "text/plain": [
       "<Figure size 432x288 with 1 Axes>"
      ]
     },
     "metadata": {
      "needs_background": "light"
     },
     "output_type": "display_data"
    }
   ],
   "source": [
    "df = PairCorrel([\"GC\", \"SI\"])"
   ]
  },
  {
   "cell_type": "code",
   "execution_count": null,
   "metadata": {},
   "outputs": [],
   "source": []
  },
  {
   "cell_type": "code",
   "execution_count": 5,
   "metadata": {},
   "outputs": [
    {
     "data": {
      "text/plain": [
       "{'BO',\n",
       " 'C ',\n",
       " 'CC',\n",
       " 'CL',\n",
       " 'CO',\n",
       " 'CT',\n",
       " 'FC',\n",
       " 'GC',\n",
       " 'HG',\n",
       " 'HO',\n",
       " 'JO',\n",
       " 'KC',\n",
       " 'KW',\n",
       " 'LA',\n",
       " 'LC',\n",
       " 'LH',\n",
       " 'LL',\n",
       " 'LN',\n",
       " 'LT',\n",
       " 'LX',\n",
       " 'NG',\n",
       " 'PL',\n",
       " 'QS',\n",
       " 'S ',\n",
       " 'SB',\n",
       " 'SI',\n",
       " 'SM',\n",
       " 'W ',\n",
       " 'XB'}"
      ]
     },
     "execution_count": 5,
     "metadata": {},
     "output_type": "execute_result"
    }
   ],
   "source": [
    "set(list(GSCICalendarLetter.keys()) + list(BCOMCalendarLetter))"
   ]
  },
  {
   "cell_type": "code",
   "execution_count": null,
   "metadata": {},
   "outputs": [],
   "source": []
  },
  {
   "cell_type": "code",
   "execution_count": null,
   "metadata": {},
   "outputs": [],
   "source": []
  },
  {
   "cell_type": "code",
   "execution_count": null,
   "metadata": {},
   "outputs": [],
   "source": []
  },
  {
   "cell_type": "code",
   "execution_count": 5,
   "metadata": {},
   "outputs": [
    {
     "name": "stderr",
     "output_type": "stream",
     "text": [
      "2020-06-12 15:50:24,775:xbbg.const.exch_info:ERROR:required exchange info cannot be found in GCA Comdty ...\n"
     ]
    },
    {
     "data": {
      "text/html": [
       "<div>\n",
       "<style scoped>\n",
       "    .dataframe tbody tr th:only-of-type {\n",
       "        vertical-align: middle;\n",
       "    }\n",
       "\n",
       "    .dataframe tbody tr th {\n",
       "        vertical-align: top;\n",
       "    }\n",
       "\n",
       "    .dataframe thead th {\n",
       "        text-align: right;\n",
       "    }\n",
       "</style>\n",
       "<table border=\"1\" class=\"dataframe\">\n",
       "  <thead>\n",
       "    <tr style=\"text-align: right;\">\n",
       "      <th></th>\n",
       "    </tr>\n",
       "  </thead>\n",
       "  <tbody>\n",
       "  </tbody>\n",
       "</table>\n",
       "</div>"
      ],
      "text/plain": [
       "Empty DataFrame\n",
       "Columns: []\n",
       "Index: []"
      ]
     },
     "execution_count": 5,
     "metadata": {},
     "output_type": "execute_result"
    }
   ],
   "source": [
    "blp.bdib(ticker='GCA Comdty', dt=\"20200611\")"
   ]
  },
  {
   "cell_type": "code",
   "execution_count": null,
   "metadata": {},
   "outputs": [],
   "source": []
  }
 ],
 "metadata": {
  "kernelspec": {
   "display_name": "Python 3",
   "language": "python",
   "name": "python3"
  },
  "language_info": {
   "codemirror_mode": {
    "name": "ipython",
    "version": 3
   },
   "file_extension": ".py",
   "mimetype": "text/x-python",
   "name": "python",
   "nbconvert_exporter": "python",
   "pygments_lexer": "ipython3",
   "version": "3.7.6"
  }
 },
 "nbformat": 4,
 "nbformat_minor": 4
}
