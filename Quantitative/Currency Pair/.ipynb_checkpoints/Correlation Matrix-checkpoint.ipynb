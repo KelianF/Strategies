{
 "cells": [
  {
   "cell_type": "code",
   "execution_count": 1,
   "metadata": {},
   "outputs": [],
   "source": [
    "import pandas as pd\n",
    "import numpy as np\n",
    "import matplotlib.pyplot as plt\n",
    "\n",
    "from xbbg import blp"
   ]
  },
  {
   "cell_type": "code",
   "execution_count": 2,
   "metadata": {},
   "outputs": [],
   "source": [
    "def GetRet(Liste, Start = \"20150101\", End = pd.to_datetime(\"today\").strftime(\"%Y%m%d\")):\n",
    "    Res = blp.bdh(tickers= Liste,start_date = Start , end_date = End)\n",
    "    Res.columns = [x[0] for x in Res.columns]\n",
    "    Ret = (np.log(Res) - np.log(Res.shift(1))).iloc[1:,:]\n",
    "    return Ret\n",
    "\n",
    "def Plot(Ret):\n",
    "    print(\"Sharpe\", np.sqrt(252) * Ret.mean()/Ret.std())\n",
    "    Ret = Ret + 1\n",
    "    if type(Ret) == type(pd.Series(0)):\n",
    "        Ret[0] = 100\n",
    "    else:\n",
    "        Ret.iloc[0,0] = 100\n",
    "    plt.plot(Ret.cumprod())"
   ]
  },
  {
   "cell_type": "code",
   "execution_count": null,
   "metadata": {},
   "outputs": [],
   "source": [
    "Liste = [\"SPX Index\", ]"
   ]
  }
 ],
 "metadata": {
  "kernelspec": {
   "display_name": "Python 3",
   "language": "python",
   "name": "python3"
  },
  "language_info": {
   "codemirror_mode": {
    "name": "ipython",
    "version": 3
   },
   "file_extension": ".py",
   "mimetype": "text/x-python",
   "name": "python",
   "nbconvert_exporter": "python",
   "pygments_lexer": "ipython3",
   "version": "3.7.6"
  }
 },
 "nbformat": 4,
 "nbformat_minor": 4
}
